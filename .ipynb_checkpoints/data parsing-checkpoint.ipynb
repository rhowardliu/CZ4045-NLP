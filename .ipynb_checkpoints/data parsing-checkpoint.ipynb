{
 "cells": [
  {
   "cell_type": "code",
   "execution_count": 25,
   "metadata": {},
   "outputs": [],
   "source": [
    "# import json\n",
    "\n",
    "# # def json_readr(file):\n",
    "# #     for line in open(file, mode=\"r\"):\n",
    "# #         yield json.loads(line)\n",
    "\n",
    "\n",
    "# # a = json_readr(json_file)\n",
    "# # json_dic = [b for b in a]\n",
    "\n"
   ]
  },
  {
   "cell_type": "code",
   "execution_count": 27,
   "metadata": {},
   "outputs": [],
   "source": [
    "import pandas as pd\n",
    "json_file = './reviewSelected100.json'\n",
    "\n",
    "df = pd.read_json(json_file, lines=True)\n",
    "reviews = df.loc[:,'text'].values"
   ]
  },
  {
   "cell_type": "code",
   "execution_count": 33,
   "metadata": {},
   "outputs": [],
   "source": [
    "import string\n",
    "from nltk import tokenize\n",
    "def clean_doc(doc):\n",
    "  # split into tokens by white space\n",
    "  tokens = doc.split()\n",
    "  # remove punctuation from each token\n",
    "  table = str.maketrans('', '', string.punctuation)\n",
    "  tokens = [w.translate(table) for w in tokens]\n",
    "  # remove remaining tokens that are not alphabetic\n",
    "  tokens = [word for word in tokens if word.isalpha()]\n",
    "  # make lower case\n",
    "  tokens = [word.lower() for word in tokens]\n",
    "  return tokens"
   ]
  },
  {
   "cell_type": "code",
   "execution_count": 38,
   "metadata": {},
   "outputs": [
    {
     "data": {
      "text/plain": [
       "['we',\n",
       " 'had',\n",
       " 'my',\n",
       " 'mothers',\n",
       " 'birthday',\n",
       " 'party',\n",
       " 'here',\n",
       " 'on',\n",
       " 'what',\n",
       " 'a',\n",
       " 'great',\n",
       " 'time',\n",
       " 'we',\n",
       " 'all',\n",
       " 'had',\n",
       " 'the',\n",
       " 'food',\n",
       " 'music',\n",
       " 'and',\n",
       " 'waiters',\n",
       " 'were',\n",
       " 'great',\n",
       " 'thanks',\n",
       " 'lyles']"
      ]
     },
     "execution_count": 38,
     "metadata": {},
     "output_type": "execute_result"
    }
   ],
   "source": [
    "clean_doc(reviews[0])"
   ]
  },
  {
   "cell_type": "code",
   "execution_count": null,
   "metadata": {},
   "outputs": [],
   "source": []
  }
 ],
 "metadata": {
  "kernelspec": {
   "display_name": "Python 3",
   "language": "python",
   "name": "python3"
  },
  "language_info": {
   "codemirror_mode": {
    "name": "ipython",
    "version": 3
   },
   "file_extension": ".py",
   "mimetype": "text/x-python",
   "name": "python",
   "nbconvert_exporter": "python",
   "pygments_lexer": "ipython3",
   "version": "3.7.4"
  }
 },
 "nbformat": 4,
 "nbformat_minor": 2
}
