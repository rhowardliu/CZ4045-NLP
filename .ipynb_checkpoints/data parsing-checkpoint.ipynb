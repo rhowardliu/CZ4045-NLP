{
 "cells": [
  {
   "cell_type": "code",
   "execution_count": 25,
   "metadata": {},
   "outputs": [],
   "source": [
    "# import json\n",
    "\n",
    "# # def json_readr(file):\n",
    "# #     for line in open(file, mode=\"r\"):\n",
    "# #         yield json.loads(line)\n",
    "\n",
    "\n",
    "# # a = json_readr(json_file)\n",
    "# # json_dic = [b for b in a]"
   ]
  },
  {
   "cell_type": "code",
   "execution_count": 42,
   "metadata": {},
   "outputs": [],
   "source": [
    "import pandas as pd\n",
    "json_file = './reviewSelected100.json'\n",
    "\n",
    "df = pd.read_json(json_file, lines=True)\n",
    "reviews = df.loc[:,'text'].values"
   ]
  },
  {
   "cell_type": "code",
   "execution_count": 55,
   "metadata": {},
   "outputs": [],
   "source": [
    "import string\n",
    "from nltk import word_tokenize\n",
    "def clean_doc(doc):\n",
    "  # split into tokens by white space\n",
    "  tokens = doc.split()\n",
    "  # remove punctuation from each token\n",
    "  table = str.maketrans('', '', string.punctuation)\n",
    "  tokens = [w.translate(table) for w in tokens]\n",
    "  # remove remaining tokens that are not alphabetic\n",
    "  tokens = [word for word in tokens if word.isalpha()]\n",
    "  # make lower case\n",
    "  tokens = [word.lower() for word in tokens]\n",
    "  return tokens"
   ]
  },
  {
   "cell_type": "code",
   "execution_count": 56,
   "metadata": {},
   "outputs": [
    {
     "data": {
      "text/plain": [
       "['We',\n",
       " 'had',\n",
       " 'my',\n",
       " 'Mother',\n",
       " \"'s\",\n",
       " 'Birthday',\n",
       " 'Party',\n",
       " 'here',\n",
       " 'on',\n",
       " '10/29/16',\n",
       " '.',\n",
       " 'What',\n",
       " 'a',\n",
       " 'Great',\n",
       " 'time',\n",
       " 'we',\n",
       " 'all',\n",
       " 'had',\n",
       " '.',\n",
       " 'The',\n",
       " 'food',\n",
       " ',',\n",
       " 'music',\n",
       " 'and',\n",
       " 'waiters',\n",
       " 'were',\n",
       " 'Great',\n",
       " '!',\n",
       " '!',\n",
       " '!',\n",
       " 'Thanks',\n",
       " 'Lyles',\n",
       " '!',\n",
       " '!',\n",
       " '!']"
      ]
     },
     "execution_count": 56,
     "metadata": {},
     "output_type": "execute_result"
    }
   ],
   "source": [
    "word_tokenize(reviews[0])"
   ]
  },
  {
   "cell_type": "code",
   "execution_count": 43,
   "metadata": {},
   "outputs": [],
   "source": [
    "combined_reviews = \"\"\n",
    "for review in reviews:\n",
    "    combined_reviews += review"
   ]
  },
  {
   "cell_type": "code",
   "execution_count": 46,
   "metadata": {},
   "outputs": [],
   "source": [
    "vocab = set(clean_doc(combined_reviews))"
   ]
  },
  {
   "cell_type": "code",
   "execution_count": null,
   "metadata": {},
   "outputs": [],
   "source": []
  },
  {
   "cell_type": "code",
   "execution_count": 60,
   "metadata": {},
   "outputs": [
    {
     "data": {
      "text/plain": [
       "[('We', 'PRP'),\n",
       " ('had', 'VBD'),\n",
       " ('my', 'PRP$'),\n",
       " ('Mother', 'NNP'),\n",
       " (\"'s\", 'POS'),\n",
       " ('Birthday', 'NNP'),\n",
       " ('Party', 'NNP'),\n",
       " ('here', 'RB'),\n",
       " ('on', 'IN'),\n",
       " ('10/29/16', 'CD'),\n",
       " ('.', '.'),\n",
       " ('What', 'WP'),\n",
       " ('a', 'DT'),\n",
       " ('Great', 'JJ'),\n",
       " ('time', 'NN'),\n",
       " ('we', 'PRP'),\n",
       " ('all', 'DT'),\n",
       " ('had', 'VBD'),\n",
       " ('.', '.'),\n",
       " ('The', 'DT'),\n",
       " ('food', 'NN'),\n",
       " (',', ','),\n",
       " ('music', 'NN'),\n",
       " ('and', 'CC'),\n",
       " ('waiters', 'NNS'),\n",
       " ('were', 'VBD'),\n",
       " ('Great', 'JJ'),\n",
       " ('!', '.'),\n",
       " ('!', '.'),\n",
       " ('!', '.'),\n",
       " ('Thanks', 'NNS'),\n",
       " ('Lyles', 'VBZ'),\n",
       " ('!', '.'),\n",
       " ('!', '.'),\n",
       " ('!', '.')]"
      ]
     },
     "execution_count": 60,
     "metadata": {},
     "output_type": "execute_result"
    }
   ],
   "source": [
    "from nltk import pos_tag\n",
    "pos_tag(word_tokenize(reviews[0]))"
   ]
  }
 ],
 "metadata": {
  "kernelspec": {
   "display_name": "Python 3",
   "language": "python",
   "name": "python3"
  },
  "language_info": {
   "codemirror_mode": {
    "name": "ipython",
    "version": 3
   },
   "file_extension": ".py",
   "mimetype": "text/x-python",
   "name": "python",
   "nbconvert_exporter": "python",
   "pygments_lexer": "ipython3",
   "version": "3.7.4"
  }
 },
 "nbformat": 4,
 "nbformat_minor": 2
}
